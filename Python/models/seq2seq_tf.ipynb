{
 "cells": [
  {
   "cell_type": "code",
   "execution_count": null,
   "id": "c00d731f",
   "metadata": {},
   "outputs": [],
   "source": [
    "# https://www.tensorflow.org/addons/tutorials/networks_seq2seq_nmt"
   ]
  }
 ],
 "metadata": {
  "language_info": {
   "name": "python"
  }
 },
 "nbformat": 4,
 "nbformat_minor": 5
}
